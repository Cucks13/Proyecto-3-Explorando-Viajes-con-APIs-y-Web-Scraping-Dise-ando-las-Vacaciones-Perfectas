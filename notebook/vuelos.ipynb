{
 "cells": [
  {
   "cell_type": "code",
   "execution_count": 1,
   "metadata": {},
   "outputs": [
    {
     "name": "stdout",
     "output_type": "stream",
     "text": [
      "Requirement already satisfied: python-dotenv in c:\\users\\almaz\\appdata\\local\\programs\\python\\python312\\lib\\site-packages (1.0.1)\n"
     ]
    }
   ],
   "source": [
    "!pip install python-dotenv\n"
   ]
  },
  {
   "cell_type": "code",
   "execution_count": null,
   "metadata": {},
   "outputs": [],
   "source": [
    "import os\n",
    "import requests\n",
    "from dotenv import load_dotenv\n",
    "\n",
    "# Cargar las variables del archivo .env\n",
    "load_dotenv()\n",
    "\n",
    "# Obtener las claves de API desde el archivo .env\n",
    "client_id = os.getenv(\"AMADEUS_CLIENT_ID\")\n",
    "client_secret = os.getenv(\"AMADEUS_CLIENT_SECRET\")\n",
    "\n",
    "def obtener_token():\n",
    "    url = \"https://test.api.amadeus.com/v1/security/oauth2/token\"\n",
    "    payload = {\n",
    "        'grant_type': 'client_credentials',\n",
    "        'client_id': client_id,\n",
    "        'client_secret': client_secret\n",
    "    }\n",
    "    headers = {\n",
    "        'Content-Type': 'application/x-www-form-urlencoded'\n",
    "    }\n",
    "\n",
    "    response = requests.post(url, data=payload, headers=headers)\n",
    "    if response.status_code == 200:\n",
    "        return response.json()['access_token']\n",
    "    else:\n",
    "        return None\n",
    "\n",
    "# Obtener el token usando las claves del .env\n",
    "token_acceso = obtener_token()\n",
    "print(f\"Token de acceso: {token_acceso}\")\n"
   ]
  },
  {
   "cell_type": "code",
   "execution_count": null,
   "metadata": {},
   "outputs": [],
   "source": [
    "def obtener_vuelos(token_acceso, destino):\n",
    "    url = \"https://test.api.amadeus.com/v2/shopping/flight-offers\"\n",
    "    params = {\n",
    "        \"originLocationCode\": \"MAD\",  # Código de aeropuerto de Madrid\n",
    "        \"destinationLocationCode\": destino,  # VIE para Viena o BER para Berlín\n",
    "        \"departureDate\": \"2024-10-25\",\n",
    "        \"returnDate\": \"2024-10-27\",\n",
    "        \"adults\": 1,  # Número de adultos, puedes modificarlo\n",
    "        \"max\": 10  # Número máximo de resultados, puedes ajustar\n",
    "    }\n",
    "    headers = {\n",
    "        \"Authorization\": f\"Bearer {token_acceso}\"\n",
    "    }\n",
    "\n",
    "    response = requests.get(url, headers=headers, params=params)\n",
    "    if response.status_code == 200:\n",
    "        return response.json()\n",
    "    else:\n",
    "        return None\n",
    "\n",
    "# Obtener vuelos a Viena\n",
    "vuelos_viena = obtener_vuelos(token_acceso, \"VIE\")\n",
    "# Obtener vuelos a Berlín\n",
    "vuelos_berlin = obtener_vuelos(token_acceso, \"BER\")\n",
    "\n",
    "# Procesar los resultados como necesites\n"
   ]
  },
  {
   "cell_type": "code",
   "execution_count": null,
   "metadata": {},
   "outputs": [],
   "source": [
    "def obtener_hoteles(token_acceso, destino):\n",
    "    url = \"https://test.api.amadeus.com/v2/shopping/hotel-offers\"\n",
    "    params = {\n",
    "        \"cityCode\": destino,  # VIE para Viena o BER para Berlín\n",
    "        \"checkInDate\": \"2024-10-25\",\n",
    "        \"checkOutDate\": \"2024-10-27\",\n",
    "        \"adults\": 1,  # Número de adultos\n",
    "        \"radius\": 10,  # Radio de búsqueda en km\n",
    "        \"radiusUnit\": \"KM\",\n",
    "        \"paymentPolicy\": \"NONE\",  # Puedes filtrar por tipo de pago si deseas\n",
    "        \"bestRateOnly\": \"true\",  # Solo muestra las mejores tarifas\n",
    "        \"sort\": \"PRICE\"  # Ordenar por precio, puedes cambiarlo si es necesario\n",
    "    }\n",
    "    headers = {\n",
    "        \"Authorization\": f\"Bearer {token_acceso}\"\n",
    "    }\n",
    "\n",
    "    response = requests.get(url, headers=headers, params=params)\n",
    "    if response.status_code == 200:\n",
    "        return response.json()\n",
    "    else:\n",
    "        return None\n",
    "\n",
    "# Obtener hoteles en Viena\n",
    "hoteles_viena = obtener_hoteles(token_acceso, \"VIE\")\n",
    "# Obtener hoteles en Berlín\n",
    "hoteles_berlin = obtener_hoteles(token_acceso, \"BER\")\n",
    "\n",
    "# Procesar los resultados como necesites\n"
   ]
  }
 ],
 "metadata": {
  "kernelspec": {
   "display_name": "Python 3",
   "language": "python",
   "name": "python3"
  },
  "language_info": {
   "codemirror_mode": {
    "name": "ipython",
    "version": 3
   },
   "file_extension": ".py",
   "mimetype": "text/x-python",
   "name": "python",
   "nbconvert_exporter": "python",
   "pygments_lexer": "ipython3",
   "version": "3.12.4"
  }
 },
 "nbformat": 4,
 "nbformat_minor": 2
}
