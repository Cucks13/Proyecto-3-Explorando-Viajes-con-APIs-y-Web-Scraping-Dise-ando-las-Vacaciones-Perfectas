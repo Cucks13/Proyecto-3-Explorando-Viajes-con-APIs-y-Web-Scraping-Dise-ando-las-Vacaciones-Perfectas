{
 "cells": [
  {
   "cell_type": "code",
   "execution_count": 32,
   "metadata": {},
   "outputs": [],
   "source": [
    "import sys\n",
    "sys.path.append(\"../\")\n",
    "from src import soporte_scrap as ssc\n",
    "import pandas as pd"
   ]
  },
  {
   "cell_type": "code",
   "execution_count": 36,
   "metadata": {},
   "outputs": [],
   "source": [
    "url_berlin = \"https://www.civitatis.com/es/berlin/?page=1&fromDate=2024-10-25&toDate=2024-10-27\"\n",
    "url_viena = \"https://www.civitatis.com/es/viena/?page=1&fromDate=2024-10-25&toDate=2024-10-27\""
   ]
  },
  {
   "cell_type": "code",
   "execution_count": 37,
   "metadata": {},
   "outputs": [],
   "source": [
    "data_berlin = ssc.traer_datos(url_berlin)\n",
    "data_viena = ssc.traer_datos(url_viena)\n",
    "\n",
    "input_data_berlin =[['berlin','2024-10-25','2024-10-27']]\n",
    "\n",
    "input_data_viena =[['viena','2024-10-25','2024-10-27']]"
   ]
  },
  {
   "cell_type": "code",
   "execution_count": 38,
   "metadata": {},
   "outputs": [],
   "source": [
    "datos_i =[['berlin','2024-10-25','2024-10-27'],\n",
    "             ['viena','2024-10-25','2024-10-27']]"
   ]
  },
  {
   "cell_type": "markdown",
   "metadata": {},
   "source": [
    "# Datos Actividades Berlin"
   ]
  },
  {
   "cell_type": "code",
   "execution_count": 40,
   "metadata": {},
   "outputs": [
    {
     "name": "stdout",
     "output_type": "stream",
     "text": [
      "call url: https://www.civitatis.com/es/berlin/?page=1&fromDate=2024-10-25&toDate=2024-10-27\n",
      "respuesta url: 200\n"
     ]
    }
   ],
   "source": [
    "actividades_berlin = ssc.traer_actividades(url_berlin, datos_i)"
   ]
  },
  {
   "cell_type": "code",
   "execution_count": 44,
   "metadata": {},
   "outputs": [],
   "source": [
    "df_actividades_berlin = pd.DataFrame(actividades_berlin)"
   ]
  },
  {
   "cell_type": "markdown",
   "metadata": {},
   "source": [
    "# Datos Actividades Viena"
   ]
  },
  {
   "cell_type": "code",
   "execution_count": 52,
   "metadata": {},
   "outputs": [
    {
     "name": "stdout",
     "output_type": "stream",
     "text": [
      "call url: https://www.civitatis.com/es/viena/?page=1&fromDate=2024-10-25&toDate=2024-10-27\n",
      "respuesta url: 200\n"
     ]
    }
   ],
   "source": [
    "actividades_viena = ssc.traer_actividades(url_viena, datos_i)"
   ]
  },
  {
   "cell_type": "code",
   "execution_count": 49,
   "metadata": {},
   "outputs": [],
   "source": [
    "df_actividades_viena = pd.DataFrame(actividades_viena)"
   ]
  },
  {
   "cell_type": "markdown",
   "metadata": {},
   "source": [
    "# Los guardamos en un CSV"
   ]
  },
  {
   "cell_type": "code",
   "execution_count": 51,
   "metadata": {},
   "outputs": [],
   "source": [
    "df_actividades_berlin.to_csv(f\"../data/actividades_berlin.csv\")\n",
    "df_actividades_viena.to_csv(f\"../data/actividades_viena.csv\")"
   ]
  }
 ],
 "metadata": {
  "kernelspec": {
   "display_name": "Python 3",
   "language": "python",
   "name": "python3"
  },
  "language_info": {
   "codemirror_mode": {
    "name": "ipython",
    "version": 3
   },
   "file_extension": ".py",
   "mimetype": "text/x-python",
   "name": "python",
   "nbconvert_exporter": "python",
   "pygments_lexer": "ipython3",
   "version": "3.12.4"
  }
 },
 "nbformat": 4,
 "nbformat_minor": 2
}
