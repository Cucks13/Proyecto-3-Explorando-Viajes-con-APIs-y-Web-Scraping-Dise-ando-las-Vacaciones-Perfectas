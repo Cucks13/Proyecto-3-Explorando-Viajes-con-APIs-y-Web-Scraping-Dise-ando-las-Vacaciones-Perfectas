{
 "cells": [
  {
   "cell_type": "code",
   "execution_count": 3,
   "metadata": {},
   "outputs": [],
   "source": [
    "import pandas as pd"
   ]
  },
  {
   "cell_type": "code",
   "execution_count": 4,
   "metadata": {},
   "outputs": [],
   "source": [
    "# Cargamos las actividades de las ciudades\n",
    "df_actividades_berlin = pd.read_csv(\"../../data/raw/actividades_berlin.csv\")\n",
    "df_actividades_viena = pd.read_csv(\"../../data/raw/actividades_viena.csv\")\n",
    "\n",
    "# Cargamos los alojamiento de las ciudades\n",
    "df_airbnb_berlin = pd.read_csv(\"../../data/raw/AirBnB_Berlin.csv\")\n",
    "df_airbnb_viena = pd.read_csv(\"../../data/raw/AirBnB_Viena.csv\")\n",
    "\n",
    "# Cargamos los vuelos de Berlin\n",
    "df_berlin_ida = pd.read_csv(\"../../data/raw/vuelos_berlin_ida.csv\")\n",
    "df_berlin_vuelta = pd.read_csv(\"../../data/raw/vuelos_berlin_vuelta.csv\")\n",
    "\n",
    "# Cargamos los vuelos de Viena\n",
    "df_viena_ida = pd.read_csv(\"../../data/raw/vuelos_viena_ida.csv\")\n",
    "df_viena_vuelta = pd.read_csv(\"../../data/raw/vuelos_viena_vuelta.csv\")"
   ]
  },
  {
   "cell_type": "code",
   "execution_count": null,
   "metadata": {},
   "outputs": [],
   "source": [
    "# Nos fijamos si todos los df contienen la columna Unnamed: 0\n",
    "display(df_actividades_berlin.head(1))\n",
    "display(df_actividades_viena.head(1))\n",
    "display(df_viena_ida.head(1))\n",
    "display(df_viena_vuelta.head(1))\n",
    "display(df_berlin_ida.head(1))\n",
    "display(df_berlin_vuelta.head(1))\n",
    "display(df_airbnb_berlin.head(1))\n",
    "display(df_airbnb_viena.head(1))"
   ]
  },
  {
   "cell_type": "code",
   "execution_count": 16,
   "metadata": {},
   "outputs": [],
   "source": [
    "# Nos damos cuentas que en efecto todos tienen la columna Unnamed: 0\n",
    "dataframes = [\n",
    "    df_actividades_berlin,\n",
    "    df_actividades_viena,\n",
    "    df_viena_ida,\n",
    "    df_viena_vuelta,\n",
    "    df_berlin_ida,\n",
    "    df_berlin_vuelta,\n",
    "    df_airbnb_berlin,\n",
    "    df_airbnb_viena\n",
    "]\n",
    "\n",
    "# Elimina la columna 'Unnamed: 0' de cada DataFrame si existe\n",
    "for df in dataframes:\n",
    "    if 'Unnamed: 0' in df.columns:\n",
    "        df.drop(columns=['Unnamed: 0'], inplace=True)"
   ]
  },
  {
   "cell_type": "markdown",
   "metadata": {},
   "source": [
    "## Como no queremos escalas, me voy a quedar unicamente con los vuelos que son directos"
   ]
  },
  {
   "cell_type": "markdown",
   "metadata": {},
   "source": [
    "### Berlin  \n",
    "  \n",
    "#### IDA"
   ]
  },
  {
   "cell_type": "code",
   "execution_count": 37,
   "metadata": {},
   "outputs": [],
   "source": [
    "# Filtra el DataFrame para obtener solo los vuelos directos\n",
    "df_berlin_ida_directo = df_berlin_ida[df_berlin_ida['Destino'] == 'BER']\n",
    "\n",
    "# Lo ordemaos de manera ascendente, ya que los vuelos baratos son nuestra prioridad\n",
    "df_berlin_ida_directo = df_berlin_ida_directo.sort_values(by='Precio Total (EUR)', ascending=True)\n",
    "\n",
    "df_berlin_ida_directo.to_csv(\"../../data/eda/berlin_ida_directo.csv\")"
   ]
  },
  {
   "cell_type": "markdown",
   "metadata": {},
   "source": [
    "\n",
    "#### VUELTA"
   ]
  },
  {
   "cell_type": "code",
   "execution_count": 38,
   "metadata": {},
   "outputs": [],
   "source": [
    "# Filtra el DataFrame para obtener solo los vuelos directos\n",
    "df_berlin_vuelta_directo = df_berlin_vuelta[df_berlin_vuelta['Destino'] == 'MAD']\n",
    "\n",
    "# Lo ordemaos de manera ascendente, ya que los vuelos baratos son nuestra prioridad\n",
    "df_berlin_vuelta_directo = df_berlin_vuelta_directo.sort_values(by='Precio Total (EUR)', ascending=True)\n",
    "\n",
    "df_berlin_vuelta_directo.to_csv(\"../../data/eda/berlin_vuelta_directo.csv\")"
   ]
  },
  {
   "cell_type": "markdown",
   "metadata": {},
   "source": [
    "### Viena  \n",
    "  \n",
    "#### IDA"
   ]
  },
  {
   "cell_type": "code",
   "execution_count": 39,
   "metadata": {},
   "outputs": [],
   "source": [
    "# Filtra el DataFrame para obtener solo los vuelos directos\n",
    "df_viena_ida_directo = df_viena_ida[df_viena_ida['Destino'] == 'VIE']\n",
    "\n",
    "# Lo ordemaos de manera ascendente, ya que los vuelos baratos son nuestra prioridad\n",
    "df_viena_ida_directo = df_viena_ida_directo.sort_values(by='Precio Total (EUR)', ascending=True)\n",
    "\n",
    "df_viena_ida_directo.to_csv(\"../../data/eda/viena_ida_directo.csv\")"
   ]
  },
  {
   "cell_type": "markdown",
   "metadata": {},
   "source": [
    "#### VUELTA"
   ]
  },
  {
   "cell_type": "code",
   "execution_count": 40,
   "metadata": {},
   "outputs": [],
   "source": [
    "# Filtra el DataFrame para obtener solo los vuelos directos\n",
    "df_viena_vuelta_directo = df_viena_vuelta[df_viena_vuelta['Destino'] == 'MAD']\n",
    "\n",
    "# Lo ordemaos de manera ascendente, ya que los vuelos baratos son nuestra prioridad\n",
    "df_viena_vuelta_directo = df_viena_vuelta_directo.sort_values(by='Precio Total (EUR)', ascending=True)\n",
    "\n",
    "df_viena_vuelta_directo.to_csv(\"../../data/eda/viena_vuelta_directo.csv\")"
   ]
  },
  {
   "cell_type": "code",
   "execution_count": 7,
   "metadata": {},
   "outputs": [
    {
     "data": {
      "text/plain": [
       "array([ 30.  ,   0.  ,  65.  ,  26.  ,  40.  ,  62.  ,  20.  ,  22.  ,\n",
       "       135.  ,   4.6 ,  29.6 , 197.5 ,  17.57,  79.  ,  34.  ,  26.5 ])"
      ]
     },
     "execution_count": 7,
     "metadata": {},
     "output_type": "execute_result"
    }
   ],
   "source": [
    "df_actividades_berlin[\"precio\"].unique()"
   ]
  }
 ],
 "metadata": {
  "kernelspec": {
   "display_name": "Python 3",
   "language": "python",
   "name": "python3"
  },
  "language_info": {
   "codemirror_mode": {
    "name": "ipython",
    "version": 3
   },
   "file_extension": ".py",
   "mimetype": "text/x-python",
   "name": "python",
   "nbconvert_exporter": "python",
   "pygments_lexer": "ipython3",
   "version": "3.12.4"
  }
 },
 "nbformat": 4,
 "nbformat_minor": 2
}
