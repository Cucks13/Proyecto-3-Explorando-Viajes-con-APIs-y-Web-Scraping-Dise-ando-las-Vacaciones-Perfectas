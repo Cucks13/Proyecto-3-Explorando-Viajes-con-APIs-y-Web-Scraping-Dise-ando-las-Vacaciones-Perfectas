{
 "cells": [
  {
   "cell_type": "code",
   "execution_count": 49,
   "metadata": {},
   "outputs": [],
   "source": [
    "import os\n",
    "import requests\n",
    "from dotenv import load_dotenv\n",
    "import json\n",
    "import pandas as pd\n",
    "\n",
    "load_dotenv()\n",
    "\n",
    "rapidapi_key = os.getenv(\"RAPIDAPI_KEY\")\n",
    "\n",
    "def obtener_listado_airbnb(ciudad, checkin, checkout, adultos=5):\n",
    "    url = \"https://airbnb13.p.rapidapi.com/search-location\"\n",
    "    \n",
    "    params = {\n",
    "        \"location\": ciudad,\n",
    "        \"checkin\": checkin,\n",
    "        \"checkout\": checkout,\n",
    "        \"adults\": adultos,\n",
    "        \"currency\": \"EUR\",\n",
    "        \"locale\": \"en\"\n",
    "    }\n",
    "\n",
    "    headers = {\n",
    "        \"X-RapidAPI-Key\": rapidapi_key,  \n",
    "        \"X-RapidAPI-Host\": \"airbnb13.p.rapidapi.com\"\n",
    "    }\n",
    "\n",
    "    response = requests.get(url, headers=headers, params=params)\n",
    "\n",
    "    if response.status_code == 200:\n",
    "        return response.json()\n",
    "    else:\n",
    "        print(f\"Error {response.status_code}: {response.text}\")\n",
    "        return None"
   ]
  },
  {
   "cell_type": "code",
   "execution_count": 40,
   "metadata": {},
   "outputs": [],
   "source": [
    "def procesar_listado_airbnb_a_dataframe(listado_data):\n",
    "    if listado_data is None or 'results' not in listado_data:\n",
    "        print(\"No se encontraron listados o error en la API.\")\n",
    "        return pd.DataFrame()\n",
    "\n",
    "    alojamientos_lista = []\n",
    "    \n",
    "    for alojamiento in listado_data['results']:\n",
    "        nombre = alojamiento.get('name', 'No especificado')\n",
    "        precio_total = alojamiento['price']['total']\n",
    "        moneda = alojamiento['price']['currency']\n",
    "        latitud = alojamiento.get('lat', 'No especificado')\n",
    "        longitud = alojamiento.get('lng', 'No especificado')\n",
    "        direccion = alojamiento.get('address', 'No especificado')\n",
    "        url = alojamiento.get('url', 'No especificado')\n",
    "\n",
    "        alojamientos_lista.append({\n",
    "            'Nombre': nombre,\n",
    "            'Precio Total': f\"{precio_total} {moneda}\",\n",
    "            'Latitud': latitud,\n",
    "            'Longitud': longitud,\n",
    "            'Dirección': direccion,\n",
    "            'URL': url\n",
    "        })\n",
    "\n",
    "    df = pd.DataFrame(alojamientos_lista)\n",
    "    return df"
   ]
  },
  {
   "cell_type": "markdown",
   "metadata": {},
   "source": [
    "# VIENA"
   ]
  },
  {
   "cell_type": "code",
   "execution_count": 36,
   "metadata": {},
   "outputs": [],
   "source": [
    "listado_viena = obtener_listado_airbnb(\"Vienna\", \"2024-10-25\", \"2024-10-27\")"
   ]
  },
  {
   "cell_type": "code",
   "execution_count": 54,
   "metadata": {},
   "outputs": [],
   "source": [
    "df_alojamiento_viena = procesar_listado_airbnb_a_dataframe(listado_viena)\n",
    "df_alojamiento_viena.drop(columns=[\"Latitud\", \"Longitud\"], inplace = True)"
   ]
  },
  {
   "cell_type": "code",
   "execution_count": 56,
   "metadata": {},
   "outputs": [],
   "source": [
    "df_alojamiento_viena.to_csv(\"../data/AirBnB_Viena.csv\")"
   ]
  },
  {
   "cell_type": "markdown",
   "metadata": {},
   "source": [
    "# BERLIN"
   ]
  },
  {
   "cell_type": "code",
   "execution_count": 43,
   "metadata": {},
   "outputs": [],
   "source": [
    "listado_berlin = obtener_listado_airbnb(\"Berlin\", \"2024-10-25\", \"2024-10-27\")"
   ]
  },
  {
   "cell_type": "code",
   "execution_count": 51,
   "metadata": {},
   "outputs": [],
   "source": [
    "df_alojamiento_berlin = procesar_listado_airbnb_a_dataframe(listado_berlin)\n",
    "df_alojamiento_berlin.drop(columns=[\"Latitud\", \"Longitud\"], inplace = True)"
   ]
  },
  {
   "cell_type": "code",
   "execution_count": 53,
   "metadata": {},
   "outputs": [],
   "source": [
    "df_alojamiento_berlin.to_csv(\"../data/AirBnB_Berlin.csv\")"
   ]
  },
  {
   "cell_type": "code",
   "execution_count": null,
   "metadata": {},
   "outputs": [],
   "source": []
  }
 ],
 "metadata": {
  "kernelspec": {
   "display_name": "Python 3",
   "language": "python",
   "name": "python3"
  },
  "language_info": {
   "codemirror_mode": {
    "name": "ipython",
    "version": 3
   },
   "file_extension": ".py",
   "mimetype": "text/x-python",
   "name": "python",
   "nbconvert_exporter": "python",
   "pygments_lexer": "ipython3",
   "version": "3.12.4"
  }
 },
 "nbformat": 4,
 "nbformat_minor": 2
}
