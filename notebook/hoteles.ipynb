{
 "cells": [
  {
   "cell_type": "code",
   "execution_count": null,
   "metadata": {},
   "outputs": [],
   "source": [
    "def obtener_hoteles(token_acceso, destino):\n",
    "    url = \"https://test.api.amadeus.com/v2/shopping/hotel-offers\"\n",
    "    params = {\n",
    "        \"cityCode\": destino,  # VIE para Viena o BER para Berlín\n",
    "        \"checkInDate\": \"2024-10-25\",\n",
    "        \"checkOutDate\": \"2024-10-27\",\n",
    "        \"adults\": 1,  # Número de adultos\n",
    "        \"radius\": 10,  # Radio de búsqueda en km\n",
    "        \"radiusUnit\": \"KM\",\n",
    "        \"paymentPolicy\": \"NONE\",  # Puedes filtrar por tipo de pago si deseas\n",
    "        \"bestRateOnly\": \"true\",  # Solo muestra las mejores tarifas\n",
    "        \"sort\": \"PRICE\"  # Ordenar por precio, puedes cambiarlo si es necesario\n",
    "    }\n",
    "    headers = {\n",
    "        \"Authorization\": f\"Bearer {token_acceso}\"\n",
    "    }\n",
    "\n",
    "    response = requests.get(url, headers=headers, params=params)\n",
    "    if response.status_code == 200:\n",
    "        return response.json()\n",
    "    else:\n",
    "        return None\n",
    "\n",
    "# Obtener hoteles en Viena\n",
    "hoteles_viena = obtener_hoteles(token_acceso, \"VIE\")\n",
    "# Obtener hoteles en Berlín\n",
    "hoteles_berlin = obtener_hoteles(token_acceso, \"BER\")\n",
    "\n",
    "# Procesar los resultados como necesites"
   ]
  }
 ],
 "metadata": {
  "language_info": {
   "name": "python"
  }
 },
 "nbformat": 4,
 "nbformat_minor": 2
}
